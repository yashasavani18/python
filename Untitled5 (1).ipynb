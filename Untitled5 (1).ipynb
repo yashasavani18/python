{
 "cells": [
  {
   "cell_type": "code",
   "execution_count": 1,
   "metadata": {},
   "outputs": [
    {
     "ename": "SyntaxError",
     "evalue": "invalid syntax (<ipython-input-1-7d3feeb25329>, line 7)",
     "output_type": "error",
     "traceback": [
      "\u001b[1;36m  File \u001b[1;32m\"<ipython-input-1-7d3feeb25329>\"\u001b[1;36m, line \u001b[1;32m7\u001b[0m\n\u001b[1;33m    if a==b'=c or a'=b==c:\u001b[0m\n\u001b[1;37m                    ^\u001b[0m\n\u001b[1;31mSyntaxError\u001b[0m\u001b[1;31m:\u001b[0m invalid syntax\n"
     ]
    }
   ],
   "source": [
    "a=int(input(\"enter any no\"))\n",
    "b=int(input(\"enter any no\"))\n",
    "c=int(input(\"enter any no\"))\n",
    "if a==b==c:\n",
    "    print(\"equilateral\")\n",
    "else:\n",
    "    if a==b'=c or a'=b==c:\n",
    "         print(\"isosceles\")\n",
    "    else:\n",
    "         print(\"scalene\")"
   ]
  },
  {
   "cell_type": "code",
   "execution_count": 3,
   "metadata": {},
   "outputs": [
    {
     "name": "stdout",
     "output_type": "stream",
     "text": [
      "enter any no99\n",
      "invalid input\n"
     ]
    }
   ],
   "source": [
    "a=int(input(\"enter any no\"))\n",
    "if a==1:\n",
    "    print(\"jan,31 days\")\n",
    "else:\n",
    "    if a==2:\n",
    "        print(\"feb,28 days\")\n",
    "    else:\n",
    "        if a==3:\n",
    "            print(\"march,31 days\")\n",
    "        else:\n",
    "            if a==4:\n",
    "                print(\"april,30 days\")\n",
    "            else:\n",
    "                if a==5:\n",
    "                    print(\"may,31 days\")\n",
    "                else:\n",
    "                    if a==6:\n",
    "                        print(\"june,30 days\")\n",
    "                    else:\n",
    "                        if a==7:\n",
    "                            print(\"july,31 days\")\n",
    "                        else:\n",
    "                            if a==8:\n",
    "                                print(\"august,31 days\")\n",
    "                            else:\n",
    "                                if a==9:\n",
    "                                    print(\"sep,30 days\")\n",
    "                                else:\n",
    "                                    if a==10:\n",
    "                                        print(\"oct,31 days\")\n",
    "                                    else:\n",
    "                                        if a==11:\n",
    "                                            print(\"nov,30 days\")\n",
    "                                        else:\n",
    "                                            if a==12:\n",
    "                                                print(\"dec,31 days\")\n",
    "                                            else:\n",
    "                                                print(\"invalid input\")"
   ]
  },
  {
   "cell_type": "code",
   "execution_count": 5,
   "metadata": {},
   "outputs": [
    {
     "name": "stdout",
     "output_type": "stream",
     "text": [
      "enter any no2016\n",
      "leap year\n"
     ]
    }
   ],
   "source": [
    "a=int(input(\"enter any no\"))\n",
    "if a%4==0:\n",
    "    print(\"leap year\")\n",
    "else:\n",
    "    print(\"not a leap year\")"
   ]
  },
  {
   "cell_type": "code",
   "execution_count": null,
   "metadata": {},
   "outputs": [],
   "source": []
  }
 ],
 "metadata": {
  "kernelspec": {
   "display_name": "Python 3",
   "language": "python",
   "name": "python3"
  },
  "language_info": {
   "codemirror_mode": {
    "name": "ipython",
    "version": 3
   },
   "file_extension": ".py",
   "mimetype": "text/x-python",
   "name": "python",
   "nbconvert_exporter": "python",
   "pygments_lexer": "ipython3",
   "version": "3.7.3"
  }
 },
 "nbformat": 4,
 "nbformat_minor": 2
}
