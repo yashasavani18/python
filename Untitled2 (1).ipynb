{
 "cells": [
  {
   "cell_type": "code",
   "execution_count": 1,
   "metadata": {},
   "outputs": [
    {
     "name": "stdout",
     "output_type": "stream",
     "text": [
      "n\n"
     ]
    }
   ],
   "source": [
    "print(\"n\")"
   ]
  },
  {
   "cell_type": "code",
   "execution_count": 13,
   "metadata": {},
   "outputs": [
    {
     "name": "stdout",
     "output_type": "stream",
     "text": [
      "enter any amount7777\n",
      "2000notes= 3\n",
      "500 notes= 3\n",
      "200 notes= 1\n",
      "100notes= 0\n",
      "50 notes= 1\n",
      "10 notes= 2\n",
      "5 notes= 1\n"
     ]
    },
    {
     "data": {
      "text/plain": [
       "2"
      ]
     },
     "execution_count": 13,
     "metadata": {},
     "output_type": "execute_result"
    }
   ],
   "source": [
    "a=int(input(\"enter any amount\"))\n",
    "b=a//2000\n",
    "print(\"2000notes=\",b)\n",
    "a=a%2000\n",
    "c=a//500\n",
    "print(\"500 notes=\",c)\n",
    "a=a%500\n",
    "a\n",
    "d=a//200\n",
    "print(\"200 notes=\",d)\n",
    "a=a%200\n",
    "a\n",
    "e=a//100\n",
    "print(\"100notes=\",e)\n",
    "a=a%100\n",
    "a\n",
    "f=a//50\n",
    "print(\"50 notes=\",f)\n",
    "a=a%50\n",
    "a\n",
    "g=a//10\n",
    "print(\"10 notes=\",g)\n",
    "a=a%10\n",
    "a\n",
    "h=a//5\n",
    "print(\"5 notes=\",h)\n",
    "a=a%5\n",
    "a\n"
   ]
  },
  {
   "cell_type": "code",
   "execution_count": 14,
   "metadata": {},
   "outputs": [
    {
     "name": "stdout",
     "output_type": "stream",
     "text": [
      "hy\n"
     ]
    }
   ],
   "source": [
    "print(\"hy\")"
   ]
  },
  {
   "cell_type": "code",
   "execution_count": 15,
   "metadata": {},
   "outputs": [
    {
     "name": "stdout",
     "output_type": "stream",
     "text": [
      "hy\n"
     ]
    }
   ],
   "source": [
    "a=print(\"hy\")"
   ]
  },
  {
   "cell_type": "code",
   "execution_count": 24,
   "metadata": {},
   "outputs": [
    {
     "name": "stdout",
     "output_type": "stream",
     "text": [
      "enter any number0\n",
      "hello five\n"
     ]
    }
   ],
   "source": [
    "a=int(input(\"enter any number\"))\n",
    "if a%5==0:\n",
    "   print(\"hello five\")\n",
    "else:\n",
    "   print(\"hy\")"
   ]
  },
  {
   "cell_type": "code",
   "execution_count": 20,
   "metadata": {},
   "outputs": [],
   "source": [
    "#input any number and check if it is divisible by 5 or not and if it is divisible by 5 then write hello five and if not then write hy"
   ]
  },
  {
   "cell_type": "code",
   "execution_count": null,
   "metadata": {},
   "outputs": [],
   "source": []
  },
  {
   "cell_type": "code",
   "execution_count": null,
   "metadata": {},
   "outputs": [],
   "source": []
  },
  {
   "cell_type": "code",
   "execution_count": null,
   "metadata": {},
   "outputs": [],
   "source": []
  }
 ],
 "metadata": {
  "kernelspec": {
   "display_name": "Python 3",
   "language": "python",
   "name": "python3"
  },
  "language_info": {
   "codemirror_mode": {
    "name": "ipython",
    "version": 3
   },
   "file_extension": ".py",
   "mimetype": "text/x-python",
   "name": "python",
   "nbconvert_exporter": "python",
   "pygments_lexer": "ipython3",
   "version": "3.7.3"
  }
 },
 "nbformat": 4,
 "nbformat_minor": 2
}
