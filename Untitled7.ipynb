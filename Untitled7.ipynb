{
 "cells": [
  {
   "cell_type": "code",
   "execution_count": 2,
   "metadata": {},
   "outputs": [
    {
     "ename": "NameError",
     "evalue": "name 'n' is not defined",
     "output_type": "error",
     "traceback": [
      "\u001b[1;31m---------------------------------------------------------------------------\u001b[0m",
      "\u001b[1;31mNameError\u001b[0m                                 Traceback (most recent call last)",
      "\u001b[1;32m<ipython-input-2-2b24f554ba7b>\u001b[0m in \u001b[0;36m<module>\u001b[1;34m\u001b[0m\n\u001b[0;32m      4\u001b[0m \u001b[0me\u001b[0m\u001b[1;33m=\u001b[0m\u001b[1;36m0\u001b[0m\u001b[1;33m\u001b[0m\u001b[1;33m\u001b[0m\u001b[0m\n\u001b[0;32m      5\u001b[0m \u001b[0mo\u001b[0m\u001b[1;33m=\u001b[0m\u001b[1;36m0\u001b[0m\u001b[1;33m\u001b[0m\u001b[1;33m\u001b[0m\u001b[0m\n\u001b[1;32m----> 6\u001b[1;33m \u001b[1;32mwhile\u001b[0m \u001b[0mn\u001b[0m\u001b[1;33m<=\u001b[0m\u001b[1;36m10\u001b[0m\u001b[1;33m:\u001b[0m\u001b[1;33m\u001b[0m\u001b[1;33m\u001b[0m\u001b[0m\n\u001b[0m\u001b[0;32m      7\u001b[0m     \u001b[0mn\u001b[0m\u001b[1;33m=\u001b[0m\u001b[0mint\u001b[0m\u001b[1;33m(\u001b[0m\u001b[0minput\u001b[0m\u001b[1;33m(\u001b[0m\u001b[1;34m\"enter any no.\"\u001b[0m\u001b[1;33m)\u001b[0m\u001b[1;33m)\u001b[0m\u001b[1;33m\u001b[0m\u001b[1;33m\u001b[0m\u001b[0m\n\u001b[0;32m      8\u001b[0m     \u001b[1;32mif\u001b[0m \u001b[0mn\u001b[0m\u001b[1;33m%\u001b[0m\u001b[1;36m2\u001b[0m\u001b[1;33m==\u001b[0m\u001b[1;36m0\u001b[0m\u001b[1;33m:\u001b[0m\u001b[1;33m\u001b[0m\u001b[1;33m\u001b[0m\u001b[0m\n",
      "\u001b[1;31mNameError\u001b[0m: name 'n' is not defined"
     ]
    }
   ],
   "source": [
    "#input 10 no. and count how many odd and even no.\n",
    "\n",
    "i=1\n",
    "e=0\n",
    "o=0\n",
    "while n<=10:\n",
    "    n=int(input(\"enter any no.\"))\n",
    "    if n%2==0:\n",
    "        e=e+1\n",
    "    else:\n",
    "        o=o+1\n",
    "        i=i+1\n",
    "print(e)\n",
    "print(o)"
   ]
  },
  {
   "cell_type": "code",
   "execution_count": null,
   "metadata": {},
   "outputs": [],
   "source": [
    "#input 10 no and count how many odd and even no\n",
    "i=1\n",
    "e=0\n",
    "o=0\n",
    "while i<=10:\n",
    "    n=int(input(\"enter any no\"))\n",
    "    if n%2==0:\n",
    "        e=e+1\n",
    "    else:\n",
    "        o=o+1\n",
    "        i=i+1\n",
    "print(\"even=\",e)\n",
    "print(\"odd=\",o)"
   ]
  },
  {
   "cell_type": "code",
   "execution_count": null,
   "metadata": {},
   "outputs": [],
   "source": [
    "#input 10 no and count how many odd and even no\n",
    "i=1\n",
    "e=0\n",
    "o=0\n",
    "while i<=10:\n",
    "    n=int(input(\"enter any no\"))\n",
    "    if n%2==0:\n",
    "        e=e+1\n",
    "    else:\n",
    "        o=o+1\n",
    "        i=i+1\n",
    "print(\"even=\",e)\n",
    "print(\"odd=\",o)"
   ]
  },
  {
   "cell_type": "code",
   "execution_count": null,
   "metadata": {},
   "outputs": [],
   "source": [
    "#input 10 no. and display the sum of even and odd no.\n",
    "i=1\n",
    "e=0\n",
    "o=0\n",
    "while i<=10:\n",
    "    a=int(input(\"enter any no.\"))\n",
    "    if a%2==0:\n",
    "        e=e+a\n",
    "    else:\n",
    "        o=o+a\n",
    "    i=i+1\n",
    "print(\"sum of odd and even no.=\",e+o)\n"
   ]
  },
  {
   "cell_type": "markdown",
   "metadata": {},
   "source": [
    "###### "
   ]
  },
  {
   "cell_type": "code",
   "execution_count": null,
   "metadata": {},
   "outputs": [],
   "source": [
    "#"
   ]
  },
  {
   "cell_type": "code",
   "execution_count": null,
   "metadata": {},
   "outputs": [],
   "source": [
    "#input 10 no and display their sum\n",
    "i=1\n",
    "s=0\n",
    "while i<=10:\n",
    "    n=int(input(\"enter any no\"))\n",
    "    s=s+n\n",
    "    i=i+1\n",
    "print(s)"
   ]
  },
  {
   "cell_type": "markdown",
   "metadata": {},
   "source": [
    "print(9)"
   ]
  },
  {
   "cell_type": "code",
   "execution_count": 3,
   "metadata": {},
   "outputs": [
    {
     "name": "stdout",
     "output_type": "stream",
     "text": [
      "enter any no.54\n",
      "54 * 1 = 54\n",
      "54 * 2 = 108\n",
      "54 * 3 = 162\n",
      "54 * 4 = 216\n",
      "54 * 5 = 270\n",
      "54 * 6 = 324\n",
      "54 * 7 = 378\n",
      "54 * 8 = 432\n",
      "54 * 9 = 486\n",
      "54 * 10 = 540\n"
     ]
    }
   ],
   "source": [
    "#input any no. and dispaly its table\n",
    "a=int(input(\"enter any no.\"))\n",
    "while i<=10:\n",
    "    j=a*i\n",
    "    print(a,\"*\",i,\"=\",j)\n",
    "    i=i+1\n"
   ]
  },
  {
   "cell_type": "code",
   "execution_count": 7,
   "metadata": {},
   "outputs": [
    {
     "name": "stdout",
     "output_type": "stream",
     "text": [
      "1\n",
      "12\n",
      "123\n",
      "1234\n",
      "12345\n"
     ]
    }
   ],
   "source": [
    "#1,12,123,1234,12345\n",
    "i=1\n",
    "j=1\n",
    "while i<=5:\n",
    "    print(j)\n",
    "    i=i+1\n",
    "    j=(j*10)+i\n",
    "    "
   ]
  },
  {
   "cell_type": "code",
   "execution_count": 9,
   "metadata": {},
   "outputs": [
    {
     "name": "stdout",
     "output_type": "stream",
     "text": [
      "12345\n",
      "1234\n",
      "123\n",
      "12\n",
      "1\n"
     ]
    }
   ],
   "source": [
    "#12345,1234,123,12,1\n",
    "i=1\n",
    "j=12345\n",
    "while i<=5:\n",
    "    print(j)\n",
    "    i=i+1\n",
    "    j=j//10"
   ]
  },
  {
   "cell_type": "code",
   "execution_count": 10,
   "metadata": {},
   "outputs": [
    {
     "name": "stdout",
     "output_type": "stream",
     "text": [
      "0\n",
      "1\n",
      "1\n",
      "2\n",
      "3\n",
      "5\n",
      "8\n",
      "13\n",
      "21\n",
      "34\n"
     ]
    }
   ],
   "source": [
    "#0,1,1,2,3.....(10 steps)\n",
    "a=0\n",
    "b=1\n",
    "print(a)\n",
    "print(b)\n",
    "i=1\n",
    "while i<=8:\n",
    "    c=a+b\n",
    "    print(c)\n",
    "    a=b\n",
    "    b=c\n",
    "    i+=1\n",
    "   \n",
    "    "
   ]
  },
  {
   "cell_type": "code",
   "execution_count": 12,
   "metadata": {},
   "outputs": [
    {
     "name": "stdout",
     "output_type": "stream",
     "text": [
      "1\n",
      "2\n",
      "3\n",
      "6\n",
      "11\n",
      "20\n",
      "37\n",
      "68\n",
      "125\n",
      "230\n"
     ]
    }
   ],
   "source": [
    "#1,2,3,6,....(10 steps)\n",
    "a=1\n",
    "b=2\n",
    "c=3\n",
    "print(a)\n",
    "print(b)\n",
    "print(c)\n",
    "i=1\n",
    "while i<=7:\n",
    "    d=a+b+c\n",
    "    print(d)\n",
    "    a=b\n",
    "    b=c\n",
    "    c=d\n",
    "    i+=1\n",
    "    "
   ]
  },
  {
   "cell_type": "code",
   "execution_count": 13,
   "metadata": {},
   "outputs": [
    {
     "name": "stdout",
     "output_type": "stream",
     "text": [
      "1\n",
      "4\n",
      "9\n",
      "16\n",
      "25\n",
      "36\n",
      "49\n",
      "64\n",
      "81\n",
      "100\n"
     ]
    }
   ],
   "source": [
    "#1,4,9,16.....(10 steps)\n",
    "i=1\n",
    "j=1\n",
    "k=3\n",
    "while i<=10:\n",
    "    print(j)\n",
    "    j=j+k\n",
    "    k=k+2\n",
    "    i=i+1\n",
    "    "
   ]
  },
  {
   "cell_type": "code",
   "execution_count": 14,
   "metadata": {},
   "outputs": [
    {
     "name": "stdout",
     "output_type": "stream",
     "text": [
      "1\n",
      "8\n",
      "27\n",
      "64\n",
      "125\n",
      "216\n",
      "343\n",
      "512\n",
      "729\n",
      "1000\n"
     ]
    }
   ],
   "source": [
    "#1,8,27,64......(10 steps)\n",
    "i=1\n",
    "j=1\n",
    "while i<=10:\n",
    "    print(j)\n",
    "    i+=1\n",
    "    j=i**3"
   ]
  },
  {
   "cell_type": "code",
   "execution_count": 15,
   "metadata": {},
   "outputs": [
    {
     "name": "stdout",
     "output_type": "stream",
     "text": [
      "1\n",
      "4\n",
      "9\n",
      "16\n",
      "25\n",
      "36\n",
      "49\n",
      "64\n",
      "81\n"
     ]
    }
   ],
   "source": [
    "#1,4,9,16.....(10 steps)\n",
    "i=1\n",
    "j=1\n",
    "while i<10:\n",
    "    print(j)\n",
    "    i=i+1\n",
    "    j=i**2"
   ]
  },
  {
   "cell_type": "code",
   "execution_count": 16,
   "metadata": {},
   "outputs": [
    {
     "name": "stdout",
     "output_type": "stream",
     "text": [
      "1\n",
      "3\n",
      "6\n",
      "10\n",
      "15\n",
      "21\n",
      "28\n",
      "36\n",
      "45\n",
      "55\n"
     ]
    }
   ],
   "source": [
    "#1,3,6,10,.....(10 steps)\n",
    "i=1\n",
    "j=1\n",
    "k=2\n",
    "while i<=10:\n",
    "    print(j)\n",
    "    j=j+k\n",
    "    k=k+1\n",
    "    i=i+1"
   ]
  },
  {
   "cell_type": "code",
   "execution_count": 18,
   "metadata": {},
   "outputs": [
    {
     "name": "stdout",
     "output_type": "stream",
     "text": [
      "1\n",
      "3\n",
      "6\n",
      "10\n",
      "15\n",
      "21\n",
      "28\n",
      "36\n",
      "45\n",
      "55\n"
     ]
    }
   ],
   "source": [
    "#1,3,6,.....(10 steps)\n",
    "i=1\n",
    "j=1\n",
    "while i<=10:\n",
    "    print(j)\n",
    "    i=i+1\n",
    "    j=j+i"
   ]
  },
  {
   "cell_type": "code",
   "execution_count": 19,
   "metadata": {},
   "outputs": [
    {
     "name": "stdout",
     "output_type": "stream",
     "text": [
      "SOUMYA AND YASHI\n",
      "SOUMYA AND YASHI\n",
      "SOUMYA AND YASHI\n",
      "SOUMYA AND YASHI\n",
      "SOUMYA AND YASHI\n",
      "SOUMYA AND YASHI\n",
      "SOUMYA AND YASHI\n",
      "SOUMYA AND YASHI\n",
      "SOUMYA AND YASHI\n",
      "SOUMYA AND YASHI\n"
     ]
    }
   ],
   "source": [
    "# print your name 10 times\n",
    "i=1\n",
    "while i<=10:\n",
    "    print(\"SOUMYA AND YASHI\")\n",
    "    i=i+1"
   ]
  },
  {
   "cell_type": "code",
   "execution_count": 20,
   "metadata": {},
   "outputs": [
    {
     "ename": "SyntaxError",
     "evalue": "invalid syntax (<ipython-input-20-725bddf5fc1f>, line 1)",
     "output_type": "error",
     "traceback": [
      "\u001b[1;36m  File \u001b[1;32m\"<ipython-input-20-725bddf5fc1f>\"\u001b[1;36m, line \u001b[1;32m1\u001b[0m\n\u001b[1;33m    input working hoursand display salary\u001b[0m\n\u001b[1;37m                ^\u001b[0m\n\u001b[1;31mSyntaxError\u001b[0m\u001b[1;31m:\u001b[0m invalid syntax\n"
     ]
    }
   ],
   "source": [
    "input working hoursand display salary\n",
    "if wh<=8 then s=1000 rs\n",
    "if wh>8and wh<=10 then first 8 hr will charge 1000 rs and each additional hr will charge 500 rs\n",
    "if wh>10 and wh<=14 then first 8 hr will charge 1000 rs and next 2 hr will charge 500 rs and each additional  hour will \n",
    "charge 700 rs each\n",
    "if wh"
   ]
  },
  {
   "cell_type": "code",
   "execution_count": 21,
   "metadata": {},
   "outputs": [
    {
     "name": "stdout",
     "output_type": "stream",
     "text": [
      "0\n",
      "1\n",
      "1\n",
      "2\n",
      "3\n",
      "5\n",
      "8\n",
      "13\n",
      "21\n",
      "34\n"
     ]
    }
   ],
   "source": [
    "a=0\n",
    "b=1\n",
    "print(a)\n",
    "print(b)\n",
    "i=1\n",
    "while i<=8:\n",
    "      c=a+b\n",
    "      print(c)\n",
    "      a=b\n",
    "      b=c\n",
    "      i=1+i\n",
    "     \n",
    "     "
   ]
  },
  {
   "cell_type": "code",
   "execution_count": 22,
   "metadata": {},
   "outputs": [
    {
     "name": "stdout",
     "output_type": "stream",
     "text": [
      "1\n",
      "2\n",
      "3\n",
      "6\n",
      "11\n",
      "20\n",
      "37\n",
      "68\n",
      "125\n",
      "230\n"
     ]
    }
   ],
   "source": [
    "a=1\n",
    "b=2\n",
    "c=3\n",
    "print(a)\n",
    "print(b)   \n",
    "print(c)\n",
    "i=1\n",
    "while i<=7:\n",
    "      d=a+b+c\n",
    "      print(d)\n",
    "      a=b\n",
    "      b=c\n",
    "      c=d\n",
    "      i=1+i"
   ]
  },
  {
   "cell_type": "code",
   "execution_count": 24,
   "metadata": {},
   "outputs": [
    {
     "name": "stdout",
     "output_type": "stream",
     "text": [
      "enter a number1\n",
      "1 * 1 = 1\n",
      "1 * 2 = 2\n",
      "1 * 3 = 3\n",
      "1 * 4 = 4\n",
      "1 * 5 = 5\n",
      "1 * 6 = 6\n",
      "1 * 7 = 7\n",
      "1 * 8 = 8\n",
      "1 * 9 = 9\n",
      "1 * 10 = 10\n"
     ]
    }
   ],
   "source": [
    "n=int(input(\"enter a number\"))\n",
    "i=1\n",
    "while i<=10:\n",
    "      t=n*i\n",
    "      print(n,\"*\",i,\"=\",t)\n",
    "      i=1+i\n",
    "\n",
    "    "
   ]
  },
  {
   "cell_type": "code",
   "execution_count": 26,
   "metadata": {},
   "outputs": [
    {
     "name": "stdout",
     "output_type": "stream",
     "text": [
      "enter an no33\n",
      "enter an no55\n",
      "enter an no9\n",
      "enter an no0\n",
      "enter an no7\n",
      "enter an no78\n",
      "enter an no66\n",
      "enter an no5\n",
      "enter an no5\n",
      "enter an no7\n",
      "265\n"
     ]
    }
   ],
   "source": [
    "i=1\n",
    "s=0\n",
    "while i<=10:\n",
    "      n=int(input(\"enter an no\"))\n",
    "      s=s+n\n",
    "      i=1+i\n",
    "print (s)"
   ]
  },
  {
   "cell_type": "code",
   "execution_count": 27,
   "metadata": {},
   "outputs": [
    {
     "ename": "SyntaxError",
     "evalue": "invalid syntax (<ipython-input-27-ed7a69dcc63a>, line 6)",
     "output_type": "error",
     "traceback": [
      "\u001b[1;36m  File \u001b[1;32m\"<ipython-input-27-ed7a69dcc63a>\"\u001b[1;36m, line \u001b[1;32m6\u001b[0m\n\u001b[1;33m    if n%2=0\u001b[0m\n\u001b[1;37m          ^\u001b[0m\n\u001b[1;31mSyntaxError\u001b[0m\u001b[1;31m:\u001b[0m invalid syntax\n"
     ]
    }
   ],
   "source": [
    "o=0\n",
    "e=0\n",
    "i=1\n",
    "while i<=10:\n",
    "      n=int(input(\"enter an no\"))\n",
    "      if n%2=0\n",
    "      e=e+1\n",
    "      else:\n",
    "print(e) o=o+1\n",
    "      i=i+e\n",
    "print(o)\n",
    "    \n",
    "                "
   ]
  },
  {
   "cell_type": "code",
   "execution_count": 35,
   "metadata": {},
   "outputs": [
    {
     "name": "stdout",
     "output_type": "stream",
     "text": [
      "enter any no51\n",
      "enter any no60\n",
      "enter any no16\n",
      "enter any no15\n",
      "16\n"
     ]
    }
   ],
   "source": [
    "#input 4 no and display 3rd highest\n",
    "a=int(input(\"enter any no\"))\n",
    "b=int(input(\"enter any no\"))\n",
    "c=int(input(\"enter any no\"))\n",
    "d=int(input(\"enter any no\"))\n",
    "if a>b:\n",
    "    if a>c:\n",
    "        if a>d:\n",
    "            if b>c:\n",
    "                if b>d:\n",
    "                    if c>d:\n",
    "                        print(c)\n",
    "                    else:\n",
    "                        print(d)\n",
    "                else:\n",
    "                    print(b)\n",
    "            else:\n",
    "                if d>c:\n",
    "                    print(c)\n",
    "                else:\n",
    "                    print(b)\n",
    "        else: \n",
    "            if b>c:\n",
    "                print(b)\n",
    "            else:\n",
    "                print(c)\n",
    "    else:\n",
    "        if d>c:\n",
    "            print(a)\n",
    "        else:\n",
    "            print(b)\n",
    "else:\n",
    "    if b>c:\n",
    "        if b>d:\n",
    "            if a>c:\n",
    "                if a>d:\n",
    "                    if c>d:\n",
    "                        print(c)\n",
    "                    else:\n",
    "                        print(d)\n",
    "                else:\n",
    "                        print(a)\n",
    "            else:\n",
    "                if c>d:\n",
    "                    if a>d:\n",
    "                        print(a)\n",
    "                    else:\n",
    "                        print(c)\n",
    "                else:\n",
    "                    prnt(c)\n",
    "        else: \n",
    "            if a>c:\n",
    "                print(a)\n",
    "            else:\n",
    "                print(c)\n",
    "    else:\n",
    "        if d>b:\n",
    "            if d>a:\n",
    "                if b>a:\n",
    "                    print(b)\n",
    "                else:\n",
    "                    print(a)\n",
    "            else:\n",
    "                print(a)\n",
    "        else:\n",
    "            if a>d:\n",
    "                print(a)\n",
    "            else:\n",
    "                print(d)\n",
    "    \n",
    "        \n",
    "            \n",
    "            \n",
    "       \n",
    "        \n",
    "                                                                                                                                    "
   ]
  },
  {
   "cell_type": "code",
   "execution_count": null,
   "metadata": {},
   "outputs": [],
   "source": []
  },
  {
   "cell_type": "code",
   "execution_count": null,
   "metadata": {},
   "outputs": [],
   "source": []
  }
 ],
 "metadata": {
  "kernelspec": {
   "display_name": "Python 3",
   "language": "python",
   "name": "python3"
  },
  "language_info": {
   "codemirror_mode": {
    "name": "ipython",
    "version": 3
   },
   "file_extension": ".py",
   "mimetype": "text/x-python",
   "name": "python",
   "nbconvert_exporter": "python",
   "pygments_lexer": "ipython3",
   "version": "3.7.3"
  }
 },
 "nbformat": 4,
 "nbformat_minor": 2
}
