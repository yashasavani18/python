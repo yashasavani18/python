{
  "nbformat": 4,
  "nbformat_minor": 0,
  "metadata": {
    "colab": {
      "provenance": []
    },
    "kernelspec": {
      "name": "python3",
      "display_name": "Python 3"
    },
    "language_info": {
      "name": "python"
    }
  },
  "cells": [
    {
      "cell_type": "code",
      "execution_count": null,
      "metadata": {
        "id": "Q7rmd5QwIAr-"
      },
      "outputs": [],
      "source": [
        "#sum of digits\n",
        "#12345 = 5+4+3+2+1 =15\n",
        "#12345%10 =5, 12345//10=1234\n",
        "#1234%10 =4 , 1234//10=123\n",
        "#123%10 =3, 123//10 =12\n",
        "#12%10 =2 , 12//10=1\n",
        "#1%10=1, 1//10=0\n"
      ]
    },
    {
      "cell_type": "code",
      "source": [
        "a=int(input(\"enter any number\"))\n",
        "sum = 0\n",
        "while a >0 :\n",
        "  r=a%10\n",
        "  s=s+r\n",
        "  a=a//10\n",
        "print (s)"
      ],
      "metadata": {
        "colab": {
          "base_uri": "https://localhost:8080/",
          "height": 287
        },
        "id": "l1QIcg3_IpmK",
        "outputId": "721bab85-a2fa-4495-ffec-28b3e78a226e"
      },
      "execution_count": null,
      "outputs": [
        {
          "output_type": "error",
          "ename": "KeyboardInterrupt",
          "evalue": "Interrupted by user",
          "traceback": [
            "\u001b[0;31m---------------------------------------------------------------------------\u001b[0m",
            "\u001b[0;31mKeyboardInterrupt\u001b[0m                         Traceback (most recent call last)",
            "\u001b[0;32m<ipython-input-2-a407b75cb551>\u001b[0m in \u001b[0;36m<cell line: 1>\u001b[0;34m()\u001b[0m\n\u001b[0;32m----> 1\u001b[0;31m \u001b[0ma\u001b[0m\u001b[0;34m=\u001b[0m\u001b[0mint\u001b[0m\u001b[0;34m(\u001b[0m\u001b[0minput\u001b[0m\u001b[0;34m(\u001b[0m\u001b[0;34m\"enter any number\"\u001b[0m\u001b[0;34m)\u001b[0m\u001b[0;34m)\u001b[0m\u001b[0;34m\u001b[0m\u001b[0;34m\u001b[0m\u001b[0m\n\u001b[0m",
            "\u001b[0;32m/usr/local/lib/python3.10/dist-packages/ipykernel/kernelbase.py\u001b[0m in \u001b[0;36mraw_input\u001b[0;34m(self, prompt)\u001b[0m\n\u001b[1;32m    849\u001b[0m                 \u001b[0;34m\"raw_input was called, but this frontend does not support input requests.\"\u001b[0m\u001b[0;34m\u001b[0m\u001b[0;34m\u001b[0m\u001b[0m\n\u001b[1;32m    850\u001b[0m             )\n\u001b[0;32m--> 851\u001b[0;31m         return self._input_request(str(prompt),\n\u001b[0m\u001b[1;32m    852\u001b[0m             \u001b[0mself\u001b[0m\u001b[0;34m.\u001b[0m\u001b[0m_parent_ident\u001b[0m\u001b[0;34m,\u001b[0m\u001b[0;34m\u001b[0m\u001b[0;34m\u001b[0m\u001b[0m\n\u001b[1;32m    853\u001b[0m             \u001b[0mself\u001b[0m\u001b[0;34m.\u001b[0m\u001b[0m_parent_header\u001b[0m\u001b[0;34m,\u001b[0m\u001b[0;34m\u001b[0m\u001b[0;34m\u001b[0m\u001b[0m\n",
            "\u001b[0;32m/usr/local/lib/python3.10/dist-packages/ipykernel/kernelbase.py\u001b[0m in \u001b[0;36m_input_request\u001b[0;34m(self, prompt, ident, parent, password)\u001b[0m\n\u001b[1;32m    893\u001b[0m             \u001b[0;32mexcept\u001b[0m \u001b[0mKeyboardInterrupt\u001b[0m\u001b[0;34m:\u001b[0m\u001b[0;34m\u001b[0m\u001b[0;34m\u001b[0m\u001b[0m\n\u001b[1;32m    894\u001b[0m                 \u001b[0;31m# re-raise KeyboardInterrupt, to truncate traceback\u001b[0m\u001b[0;34m\u001b[0m\u001b[0;34m\u001b[0m\u001b[0m\n\u001b[0;32m--> 895\u001b[0;31m                 \u001b[0;32mraise\u001b[0m \u001b[0mKeyboardInterrupt\u001b[0m\u001b[0;34m(\u001b[0m\u001b[0;34m\"Interrupted by user\"\u001b[0m\u001b[0;34m)\u001b[0m \u001b[0;32mfrom\u001b[0m \u001b[0;32mNone\u001b[0m\u001b[0;34m\u001b[0m\u001b[0;34m\u001b[0m\u001b[0m\n\u001b[0m\u001b[1;32m    896\u001b[0m             \u001b[0;32mexcept\u001b[0m \u001b[0mException\u001b[0m \u001b[0;32mas\u001b[0m \u001b[0me\u001b[0m\u001b[0;34m:\u001b[0m\u001b[0;34m\u001b[0m\u001b[0;34m\u001b[0m\u001b[0m\n\u001b[1;32m    897\u001b[0m                 \u001b[0mself\u001b[0m\u001b[0;34m.\u001b[0m\u001b[0mlog\u001b[0m\u001b[0;34m.\u001b[0m\u001b[0mwarning\u001b[0m\u001b[0;34m(\u001b[0m\u001b[0;34m\"Invalid Message:\"\u001b[0m\u001b[0;34m,\u001b[0m \u001b[0mexc_info\u001b[0m\u001b[0;34m=\u001b[0m\u001b[0;32mTrue\u001b[0m\u001b[0;34m)\u001b[0m\u001b[0;34m\u001b[0m\u001b[0;34m\u001b[0m\u001b[0m\n",
            "\u001b[0;31mKeyboardInterrupt\u001b[0m: Interrupted by user"
          ]
        }
      ]
    },
    {
      "cell_type": "code",
      "source": [
        "# the thing that you want to calculate should be stored in a different variable.\n",
        "a=int(input(\"enter any number\"))\n",
        "b=0\n",
        "sum=0\n",
        "while a > 0 :\n",
        "  b=a%10\n",
        "  sum=sum+b\n",
        "  a=a//10\n",
        "print(sum)"
      ],
      "metadata": {
        "colab": {
          "base_uri": "https://localhost:8080/"
        },
        "id": "IbisZf0PJ2-S",
        "outputId": "169f586f-dc81-40e8-98d5-750478fa8555"
      },
      "execution_count": null,
      "outputs": [
        {
          "output_type": "stream",
          "name": "stdout",
          "text": [
            "enter any number6783\n",
            "24\n"
          ]
        }
      ]
    },
    {
      "cell_type": "code",
      "source": [
        "#factorial of any number\n",
        "# 5! = 5,4,3,2,1\n",
        "# a=1 b=int(input(\"enter the number\"))\n",
        "#while a<=b:\n",
        "#      print(b)\n",
        "\n"
      ],
      "metadata": {
        "id": "KcpKdRxiLTaT"
      },
      "execution_count": null,
      "outputs": []
    },
    {
      "cell_type": "code",
      "source": [
        "# n to 1\n",
        "#n-1, n-2 ,n-3 ,n-4\n",
        "#n=7 , 7 , 6 , 5 , 4 , 3 ,2 ,1\n",
        "n=int(input(\"enter value\"))\n",
        "i=1\n",
        "j=n\n",
        "k=1\n",
        "while i<=n:\n",
        "  print(j)\n",
        "  i=i+1 # 2,3,4 ,5 ,6 ,7\n",
        "  j=j-k # 6,5,4, 3 ,2 ,1\n"
      ],
      "metadata": {
        "colab": {
          "base_uri": "https://localhost:8080/"
        },
        "id": "_91Nbc3vMj9y",
        "outputId": "89a835af-4f3a-49fb-a2e2-f6df8e29ad56"
      },
      "execution_count": null,
      "outputs": [
        {
          "output_type": "stream",
          "name": "stdout",
          "text": [
            "enter value7\n",
            "7\n",
            "6\n",
            "5\n",
            "4\n",
            "3\n",
            "2\n",
            "1\n"
          ]
        }
      ]
    },
    {
      "cell_type": "code",
      "source": [
        "#7! = 7*6*5*4*3*2*1\n"
      ],
      "metadata": {
        "id": "DINilrGXOLpB"
      },
      "execution_count": null,
      "outputs": []
    },
    {
      "cell_type": "code",
      "source": [
        "# n to 1\n",
        "#n-1, n-2 ,n-3 ,n-4\n",
        "#n=7 , 7 , 6 , 5 , 4 , 3 ,2 ,1\n",
        "n=int(input(\"enter value\"))\n",
        "i=1\n",
        "j=n\n",
        "k=1\n",
        "y=1\n",
        "while i<=n:\n",
        "  print(j)\n",
        "  y=j*y\n",
        "  i=i+1 # 2,3,4 ,5 ,6 ,7,8\n",
        "  j=j-k # 6,5,4, 3 ,2 ,1,0\n",
        "\n",
        "print(\"value of y=\",y)"
      ],
      "metadata": {
        "colab": {
          "base_uri": "https://localhost:8080/"
        },
        "outputId": "faf906de-2645-4e48-ebeb-d3f1fdda114c",
        "id": "JS7v5lV4RUHh"
      },
      "execution_count": null,
      "outputs": [
        {
          "output_type": "stream",
          "name": "stdout",
          "text": [
            "enter value7\n",
            "7\n",
            "6\n",
            "5\n",
            "4\n",
            "3\n",
            "2\n",
            "1\n",
            "value of y= 5040\n"
          ]
        }
      ]
    },
    {
      "cell_type": "code",
      "source": [
        "#input any no and check it is perfect or not\n",
        "#perfect no are those no's whose sum of factors is equal to the no\n",
        "#128=1,2,4,8,32,64,128\n",
        "#first of all check with 1 and then aage till 13 check krlo or fr usk jo jo multiples aare h usse divide krk dkho and then u'll know\n",
        "#1257=1,3,\n",
        "a=int(input(\"enter any no\"))\n",
        "i=1\n",
        "j=a\n",
        "y=0\n",
        "while a>=i:\n",
        "   if a%i==0:\n",
        "     print(\" \",i)\n",
        "     y=y+i\n",
        "   i+=1\n",
        "print(y)\n",
        "if a==y:\n",
        "  print(\"perfect\")\n",
        "else:\n",
        "  print(\"not perfect\")"
      ],
      "metadata": {
        "colab": {
          "base_uri": "https://localhost:8080/"
        },
        "id": "K7bSPGv3R0ij",
        "outputId": "fdb004ca-0dc3-4f55-83aa-3724fd26329f"
      },
      "execution_count": 8,
      "outputs": [
        {
          "output_type": "stream",
          "name": "stdout",
          "text": [
            "enter any no66\n",
            "  1\n",
            "  2\n",
            "  3\n",
            "  6\n",
            "  11\n",
            "  22\n",
            "  33\n",
            "  66\n",
            "144\n",
            "not perfect\n"
          ]
        }
      ]
    },
    {
      "cell_type": "code",
      "source": [],
      "metadata": {
        "id": "RwK6DWbhb1mn"
      },
      "execution_count": 8,
      "outputs": []
    }
  ]
}