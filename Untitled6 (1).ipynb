{
 "cells": [
  {
   "cell_type": "code",
   "execution_count": 2,
   "metadata": {},
   "outputs": [
    {
     "name": "stdout",
     "output_type": "stream",
     "text": [
      "100\n"
     ]
    }
   ],
   "source": [
    "print(10**2)"
   ]
  },
  {
   "cell_type": "code",
   "execution_count": 3,
   "metadata": {},
   "outputs": [
    {
     "name": "stdout",
     "output_type": "stream",
     "text": [
      "enter first no1\n",
      "enter any no2\n",
      "enter any no3\n",
      "enter any no4\n",
      "3\n"
     ]
    }
   ],
   "source": [
    "#input 4 no and display 2 highest\n",
    "a=int(input(\"enter first no\"))\n",
    "b=int(input(\"enter any no\"))\n",
    "c=int(input(\"enter any no\"))\n",
    "d=int(input(\"enter any no\"))\n",
    "if a>b:\n",
    "    if a>c:\n",
    "        if a>d: \n",
    "            if b>c:\n",
    "                if b>d:\n",
    "                    print(\"b\")\n",
    "                else: \n",
    "                    print(\"d\")\n",
    "            else: \n",
    "                    if c>d:\n",
    "                        print(c)\n",
    "                    else:\n",
    "                        print(d)\n",
    "        else: \n",
    "            print(a)\n",
    "    else:\n",
    "            if a>d:\n",
    "                print(a)\n",
    "            else:\n",
    "                if c>d:\n",
    "                    print(d)\n",
    "                else:\n",
    "                    print(c)\n",
    "else:\n",
    "    if b>c:\n",
    "        if b>d:\n",
    "            if a>c:\n",
    "                if a>d:\n",
    "                    print(a)\n",
    "                else:\n",
    "                    print(d)\n",
    "            else:\n",
    "                if c>d:\n",
    "                    print(C)\n",
    "                else:\n",
    "                    print (d)\n",
    "        else:\n",
    "            print (b)\n",
    "    else:\n",
    "        if b>d:\n",
    "            print(b)\n",
    "        else:\n",
    "            if c>d:\n",
    "                print(d)\n",
    "            else:\n",
    "                print(c)"
   ]
  },
  {
   "cell_type": "code",
   "execution_count": 4,
   "metadata": {},
   "outputs": [
    {
     "name": "stdout",
     "output_type": "stream",
     "text": [
      "1\n",
      "3\n",
      "5\n",
      "7\n",
      "9\n",
      "11\n",
      "13\n",
      "15\n",
      "17\n",
      "19\n"
     ]
    }
   ],
   "source": [
    "#1,3,5,7,9.....(10 steps)\n",
    "i=1\n",
    "while i<=19:\n",
    "     print(i)\n",
    "     i=i+2"
   ]
  },
  {
   "cell_type": "code",
   "execution_count": 5,
   "metadata": {},
   "outputs": [
    {
     "name": "stdout",
     "output_type": "stream",
     "text": [
      "1\n",
      "3\n",
      "5\n",
      "7\n",
      "9\n",
      "11\n",
      "13\n",
      "15\n",
      "17\n",
      "19\n"
     ]
    }
   ],
   "source": [
    "i=1\n",
    "while i<=19:\n",
    "    print(i)\n",
    "    i=i+2"
   ]
  },
  {
   "cell_type": "code",
   "execution_count": 6,
   "metadata": {},
   "outputs": [
    {
     "name": "stdout",
     "output_type": "stream",
     "text": [
      "1\n",
      "3\n",
      "6\n",
      "10\n",
      "15\n",
      "21\n",
      "28\n",
      "36\n",
      "45\n",
      "55\n"
     ]
    }
   ],
   "source": [
    "#1,3,6,10,15.......(10 steps)\n",
    "i=1\n",
    "j=1\n",
    "k=2\n",
    "while i<=10:\n",
    "    print(j)\n",
    "    j=j+k\n",
    "    k=k+1\n",
    "    i=i+1"
   ]
  },
  {
   "cell_type": "code",
   "execution_count": 7,
   "metadata": {},
   "outputs": [
    {
     "name": "stdout",
     "output_type": "stream",
     "text": [
      "1\n",
      "3\n",
      "6\n",
      "10\n",
      "15\n",
      "21\n",
      "28\n",
      "36\n",
      "45\n",
      "55\n"
     ]
    }
   ],
   "source": [
    "i=1\n",
    "j=1\n",
    "while i<=10:\n",
    "    print(j)\n",
    "    i=i+1\n",
    "    j=j+i"
   ]
  },
  {
   "cell_type": "code",
   "execution_count": 8,
   "metadata": {},
   "outputs": [
    {
     "name": "stdout",
     "output_type": "stream",
     "text": [
      "1\n",
      "4\n",
      "9\n",
      "16\n",
      "25\n",
      "36\n",
      "49\n",
      "64\n",
      "81\n",
      "100\n"
     ]
    }
   ],
   "source": [
    "#1,4,9,16......(10 steps)\n",
    "i=1\n",
    "j=1\n",
    "while i<=10:\n",
    "    print(j)\n",
    "    i=i+1\n",
    "    j=i**2"
   ]
  },
  {
   "cell_type": "code",
   "execution_count": 9,
   "metadata": {},
   "outputs": [
    {
     "name": "stdout",
     "output_type": "stream",
     "text": [
      "1\n",
      "4\n",
      "9\n",
      "16\n",
      "25\n",
      "36\n",
      "49\n",
      "64\n",
      "81\n",
      "100\n"
     ]
    }
   ],
   "source": [
    "#1,4,9,16......(10 steps)\n",
    "i=1\n",
    "j=1\n",
    "while i<=10:\n",
    "    print(j)\n",
    "    i=i+1\n",
    "    j=i**2"
   ]
  },
  {
   "cell_type": "code",
   "execution_count": 12,
   "metadata": {},
   "outputs": [
    {
     "name": "stdout",
     "output_type": "stream",
     "text": [
      "1\n",
      "4\n",
      "9\n",
      "16\n",
      "25\n",
      "36\n",
      "49\n",
      "64\n",
      "81\n",
      "100\n"
     ]
    }
   ],
   "source": [
    "i=1\n",
    "j=1\n",
    "while i<=10:\n",
    "    print(j)\n",
    "    i=i+1\n",
    "    j=i**2"
   ]
  },
  {
   "cell_type": "code",
   "execution_count": 13,
   "metadata": {},
   "outputs": [
    {
     "name": "stdout",
     "output_type": "stream",
     "text": [
      "1\n",
      "4\n",
      "9\n",
      "16\n",
      "25\n",
      "36\n",
      "49\n",
      "64\n",
      "81\n",
      "100\n"
     ]
    }
   ],
   "source": [
    "#1,4,9,16.......(10 steps)\n",
    "i=1\n",
    "j=1\n",
    "k=3\n",
    "while i<=10:\n",
    "    print(j)\n",
    "    i=i+1\n",
    "    j=j+k\n",
    "    k=k+2"
   ]
  },
  {
   "cell_type": "code",
   "execution_count": 15,
   "metadata": {},
   "outputs": [
    {
     "name": "stdout",
     "output_type": "stream",
     "text": [
      "1\n",
      "8\n",
      "27\n",
      "64\n",
      "125\n",
      "216\n",
      "343\n",
      "512\n",
      "729\n",
      "1000\n"
     ]
    }
   ],
   "source": [
    "#1,8,27,64....(10 steps)\n",
    "i=1\n",
    "j=1\n",
    "while i<=10:\n",
    "\n",
    "    print(j)\n",
    "    i=i+1\n",
    "    j=i**3"
   ]
  },
  {
   "cell_type": "code",
   "execution_count": 19,
   "metadata": {},
   "outputs": [
    {
     "name": "stdout",
     "output_type": "stream",
     "text": [
      "enter first no.2\n",
      "enter second no.1\n",
      "enter third no.3\n",
      "1\n"
     ]
    }
   ],
   "source": [
    "a=int(input(\"enter first no.\"))\n",
    "b=int(input(\"enter second no.\"))\n",
    "c=int(input(\"enter third no.\"))\n",
    "if a>b:\n",
    "    if a>c:\n",
    "        if b>c:\n",
    "            print(c)\n",
    "        else:\n",
    "            print(b)\n",
    "    else:\n",
    "        print(b)\n",
    "else:\n",
    "    if b>c:\n",
    "        if a>c:\n",
    "            print(c)\n",
    "        else:\n",
    "            print(a)\n",
    "    else:\n",
    "        print(a)\n",
    "      \n"
   ]
  },
  {
   "cell_type": "code",
   "execution_count": 27,
   "metadata": {},
   "outputs": [
    {
     "name": "stdout",
     "output_type": "stream",
     "text": [
      "enter first no.56\n",
      "enter second no.67\n",
      "enter third no.87\n",
      "enter fourth no.88\n",
      "88\n"
     ]
    }
   ],
   "source": [
    "a=int(input(\"enter first no.\"))\n",
    "b=int(input(\"enter second no.\"))\n",
    "c=int(input(\"enter third no.\"))\n",
    "d=int(input(\"enter fourth no.\"))\n",
    "if a>b:\n",
    "    if a>c:\n",
    "        if a>d:\n",
    "            if b>c:\n",
    "                if b>d:\n",
    "                    if c>d:\n",
    "                        print(c)\n",
    "                    else:\n",
    "                        print(d)\n",
    "                else: \n",
    "                    if b>c:\n",
    "                        print(b)\n",
    "                    else:\n",
    "                        print(c)\n",
    "            else:\n",
    "                if c>a:\n",
    "                    if c>d:\n",
    "                        if b>d:\n",
    "                            print(b)\n",
    "                        else:\n",
    "                            print(d)\n",
    "                    else:\n",
    "                        if b>c:\n",
    "                            print(b)\n",
    "                        else:\n",
    "                            print(c)\n",
    "                else:\n",
    "                    if b>d:\n",
    "                        print(b)\n",
    "                    else:\n",
    "                        print(d)\n",
    "        else:\n",
    "            if b>c:\n",
    "                print(b)\n",
    "            else:\n",
    "                print(c)\n",
    "                \n",
    "    else:\n",
    "        if b>d:\n",
    "            print(b)\n",
    "        else:\n",
    "            print(c)\n",
    "else:\n",
    "    if b>c:\n",
    "        if b>d:\n",
    "            if c>d:\n",
    "                if c>a:\n",
    "                    if a>d:\n",
    "                        print(a)\n",
    "                    else:\n",
    "                        print(d)\n",
    "                else:\n",
    "                    print(c)\n",
    "            else:\n",
    "                if a>c:\n",
    "                    if a>d:\n",
    "                        print(d)\n",
    "                    else:\n",
    "                        print(a)\n",
    "                else:\n",
    "                    print(c)\n",
    "        else:\n",
    "            if c>a:\n",
    "                print(c)\n",
    "            else:\n",
    "                print(a)\n",
    "    else:\n",
    "        if a>d:\n",
    "            print(a)\n",
    "        else:\n",
    "            print(d)\n",
    "\n",
    "                "
   ]
  },
  {
   "cell_type": "code",
   "execution_count": 29,
   "metadata": {},
   "outputs": [
    {
     "name": "stdout",
     "output_type": "stream",
     "text": [
      "1\n",
      "8\n",
      "27\n",
      "64\n",
      "125\n",
      "216\n",
      "343\n",
      "512\n",
      "729\n",
      "1000\n"
     ]
    }
   ],
   "source": [
    "#1,8,27,64.......\n",
    "i=1\n",
    "j=1\n",
    "while i<=10:\n",
    "    print(j)\n",
    "    i=i+1\n",
    "    j=i**3\n"
   ]
  },
  {
   "cell_type": "code",
   "execution_count": 31,
   "metadata": {},
   "outputs": [
    {
     "name": "stdout",
     "output_type": "stream",
     "text": [
      "1\n",
      "11\n",
      "111\n",
      "1111\n",
      "11111\n"
     ]
    }
   ],
   "source": [
    "i=1\n",
    "j=1\n",
    "while i<=5:\n",
    "    print(j)\n",
    "    i=i+1\n",
    "    j=(j*10)+1\n",
    "    "
   ]
  },
  {
   "cell_type": "code",
   "execution_count": 37,
   "metadata": {},
   "outputs": [
    {
     "name": "stdout",
     "output_type": "stream",
     "text": [
      "11111\n",
      "1111\n",
      "111\n",
      "11\n",
      "1\n"
     ]
    }
   ],
   "source": [
    "i=1\n",
    "j=11111\n",
    "while i<=5:\n",
    "    print(j)\n",
    "    \n",
    "    j=(j//10)\n",
    "    i=i+1"
   ]
  },
  {
   "cell_type": "code",
   "execution_count": 45,
   "metadata": {},
   "outputs": [
    {
     "name": "stdout",
     "output_type": "stream",
     "text": [
      "0\n",
      "1\n",
      "2\n",
      "3\n",
      "4\n",
      "5\n",
      "6\n",
      "7\n",
      "8\n",
      "9\n"
     ]
    }
   ],
   "source": []
  },
  {
   "cell_type": "code",
   "execution_count": null,
   "metadata": {},
   "outputs": [],
   "source": [
    "a=int(input(\"enter any no\"))\n",
    "i=1\n",
    "j=a\n",
    "while i<=10:\n",
    "    print(j)\n",
    "    i=i+1\n",
    "    j=a*i\n"
   ]
  },
  {
   "cell_type": "code",
   "execution_count": null,
   "metadata": {},
   "outputs": [
    {
     "name": "stdout",
     "output_type": "stream",
     "text": [
      "enter any no7\n",
      "7\n",
      "enter any no8\n",
      "8\n",
      "enter any no6\n",
      "6\n",
      "enter any no4\n",
      "4\n",
      "enter any no33\n",
      "33\n",
      "enter any no44\n",
      "44\n",
      "enter any no99\n",
      "99\n",
      "enter any no7\n",
      "7\n",
      "enter any no8\n",
      "8\n",
      "enter any no6\n",
      "6\n",
      "enter any no4\n",
      "4\n",
      "enter any no6\n",
      "6\n",
      "enter any no9\n",
      "9\n",
      "enter any no0\n",
      "0\n",
      "enter any no99\n",
      "99\n",
      "enter any no66\n",
      "66\n",
      "enter any no5\n",
      "5\n",
      "enter any no3\n",
      "3\n"
     ]
    }
   ],
   "source": [
    "i=1\n",
    "while i<=10:\n",
    "    j=int(input(\"enter any no\"))\n",
    "    print(j)"
   ]
  },
  {
   "cell_type": "code",
   "execution_count": null,
   "metadata": {},
   "outputs": [],
   "source": [
    "a=int(input(\"enter any no\"))\n",
    "i=1\n",
    "j=a\n",
    "while i<=10:\n",
    "    print(j)\n",
    "    i=i+1\n",
    "    j=j*i"
   ]
  },
  {
   "cell_type": "code",
   "execution_count": null,
   "metadata": {},
   "outputs": [],
   "source": []
  }
 ],
 "metadata": {
  "kernelspec": {
   "display_name": "Python 3",
   "language": "python",
   "name": "python3"
  },
  "language_info": {
   "codemirror_mode": {
    "name": "ipython",
    "version": 3
   },
   "file_extension": ".py",
   "mimetype": "text/x-python",
   "name": "python",
   "nbconvert_exporter": "python",
   "pygments_lexer": "ipython3",
   "version": "3.7.3"
  }
 },
 "nbformat": 4,
 "nbformat_minor": 2
}
